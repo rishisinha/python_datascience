{
 "cells": [
  {
   "cell_type": "code",
   "execution_count": 2,
   "metadata": {
    "collapsed": true
   },
   "outputs": [],
   "source": [
    "import pandas as pd\n",
    "import numpy as np\n",
    "import os\n",
    "import pandas_datareader.data as web\n",
    "import matplotlib.pyplot as plt\n",
    "from mlxtend.frequent_patterns import association_rules\n",
    "from mlxtend.frequent_patterns import apriori"
   ]
  },
  {
   "cell_type": "code",
   "execution_count": 18,
   "metadata": {
    "collapsed": true
   },
   "outputs": [],
   "source": [
    "# setting up directory\n",
    "\n",
    "os.chdir(\"/Users/rishisinha/ml-100k\")"
   ]
  },
  {
   "cell_type": "code",
   "execution_count": 19,
   "metadata": {
    "collapsed": true
   },
   "outputs": [],
   "source": [
    "\n",
    "rating_df = pd.read_csv( \"u.data\", delimiter = \"\\t\", header = None )"
   ]
  },
  {
   "cell_type": "code",
   "execution_count": 20,
   "metadata": {},
   "outputs": [
    {
     "data": {
      "text/html": [
       "<div>\n",
       "<style>\n",
       "    .dataframe thead tr:only-child th {\n",
       "        text-align: right;\n",
       "    }\n",
       "\n",
       "    .dataframe thead th {\n",
       "        text-align: left;\n",
       "    }\n",
       "\n",
       "    .dataframe tbody tr th {\n",
       "        vertical-align: top;\n",
       "    }\n",
       "</style>\n",
       "<table border=\"1\" class=\"dataframe\">\n",
       "  <thead>\n",
       "    <tr style=\"text-align: right;\">\n",
       "      <th></th>\n",
       "      <th>0</th>\n",
       "      <th>1</th>\n",
       "      <th>2</th>\n",
       "      <th>3</th>\n",
       "    </tr>\n",
       "  </thead>\n",
       "  <tbody>\n",
       "    <tr>\n",
       "      <th>0</th>\n",
       "      <td>196</td>\n",
       "      <td>242</td>\n",
       "      <td>3</td>\n",
       "      <td>881250949</td>\n",
       "    </tr>\n",
       "    <tr>\n",
       "      <th>1</th>\n",
       "      <td>186</td>\n",
       "      <td>302</td>\n",
       "      <td>3</td>\n",
       "      <td>891717742</td>\n",
       "    </tr>\n",
       "    <tr>\n",
       "      <th>2</th>\n",
       "      <td>22</td>\n",
       "      <td>377</td>\n",
       "      <td>1</td>\n",
       "      <td>878887116</td>\n",
       "    </tr>\n",
       "    <tr>\n",
       "      <th>3</th>\n",
       "      <td>244</td>\n",
       "      <td>51</td>\n",
       "      <td>2</td>\n",
       "      <td>880606923</td>\n",
       "    </tr>\n",
       "  </tbody>\n",
       "</table>\n",
       "</div>"
      ],
      "text/plain": [
       "     0    1  2          3\n",
       "0  196  242  3  881250949\n",
       "1  186  302  3  891717742\n",
       "2   22  377  1  878887116\n",
       "3  244   51  2  880606923"
      ]
     },
     "execution_count": 20,
     "metadata": {},
     "output_type": "execute_result"
    }
   ],
   "source": [
    "rating_df.head(4)"
   ]
  },
  {
   "cell_type": "markdown",
   "metadata": {},
   "source": [
    "*** Name the columns ***"
   ]
  },
  {
   "cell_type": "code",
   "execution_count": 21,
   "metadata": {
    "collapsed": true
   },
   "outputs": [],
   "source": [
    "rating_df.columns = [\"userid\", \"movieid\", \"rating\", \"timestamp\"]"
   ]
  },
  {
   "cell_type": "code",
   "execution_count": 22,
   "metadata": {},
   "outputs": [
    {
     "data": {
      "text/html": [
       "<div>\n",
       "<style>\n",
       "    .dataframe thead tr:only-child th {\n",
       "        text-align: right;\n",
       "    }\n",
       "\n",
       "    .dataframe thead th {\n",
       "        text-align: left;\n",
       "    }\n",
       "\n",
       "    .dataframe tbody tr th {\n",
       "        vertical-align: top;\n",
       "    }\n",
       "</style>\n",
       "<table border=\"1\" class=\"dataframe\">\n",
       "  <thead>\n",
       "    <tr style=\"text-align: right;\">\n",
       "      <th></th>\n",
       "      <th>userid</th>\n",
       "      <th>movieid</th>\n",
       "      <th>rating</th>\n",
       "      <th>timestamp</th>\n",
       "    </tr>\n",
       "  </thead>\n",
       "  <tbody>\n",
       "    <tr>\n",
       "      <th>0</th>\n",
       "      <td>196</td>\n",
       "      <td>242</td>\n",
       "      <td>3</td>\n",
       "      <td>881250949</td>\n",
       "    </tr>\n",
       "    <tr>\n",
       "      <th>1</th>\n",
       "      <td>186</td>\n",
       "      <td>302</td>\n",
       "      <td>3</td>\n",
       "      <td>891717742</td>\n",
       "    </tr>\n",
       "    <tr>\n",
       "      <th>2</th>\n",
       "      <td>22</td>\n",
       "      <td>377</td>\n",
       "      <td>1</td>\n",
       "      <td>878887116</td>\n",
       "    </tr>\n",
       "    <tr>\n",
       "      <th>3</th>\n",
       "      <td>244</td>\n",
       "      <td>51</td>\n",
       "      <td>2</td>\n",
       "      <td>880606923</td>\n",
       "    </tr>\n",
       "    <tr>\n",
       "      <th>4</th>\n",
       "      <td>166</td>\n",
       "      <td>346</td>\n",
       "      <td>1</td>\n",
       "      <td>886397596</td>\n",
       "    </tr>\n",
       "    <tr>\n",
       "      <th>5</th>\n",
       "      <td>298</td>\n",
       "      <td>474</td>\n",
       "      <td>4</td>\n",
       "      <td>884182806</td>\n",
       "    </tr>\n",
       "    <tr>\n",
       "      <th>6</th>\n",
       "      <td>115</td>\n",
       "      <td>265</td>\n",
       "      <td>2</td>\n",
       "      <td>881171488</td>\n",
       "    </tr>\n",
       "    <tr>\n",
       "      <th>7</th>\n",
       "      <td>253</td>\n",
       "      <td>465</td>\n",
       "      <td>5</td>\n",
       "      <td>891628467</td>\n",
       "    </tr>\n",
       "    <tr>\n",
       "      <th>8</th>\n",
       "      <td>305</td>\n",
       "      <td>451</td>\n",
       "      <td>3</td>\n",
       "      <td>886324817</td>\n",
       "    </tr>\n",
       "    <tr>\n",
       "      <th>9</th>\n",
       "      <td>6</td>\n",
       "      <td>86</td>\n",
       "      <td>3</td>\n",
       "      <td>883603013</td>\n",
       "    </tr>\n",
       "  </tbody>\n",
       "</table>\n",
       "</div>"
      ],
      "text/plain": [
       "   userid  movieid  rating  timestamp\n",
       "0     196      242       3  881250949\n",
       "1     186      302       3  891717742\n",
       "2      22      377       1  878887116\n",
       "3     244       51       2  880606923\n",
       "4     166      346       1  886397596\n",
       "5     298      474       4  884182806\n",
       "6     115      265       2  881171488\n",
       "7     253      465       5  891628467\n",
       "8     305      451       3  886324817\n",
       "9       6       86       3  883603013"
      ]
     },
     "execution_count": 22,
     "metadata": {},
     "output_type": "execute_result"
    }
   ],
   "source": [
    "\n",
    "rating_df.head( 10 )"
   ]
  },
  {
   "cell_type": "code",
   "execution_count": 23,
   "metadata": {
    "collapsed": true
   },
   "outputs": [],
   "source": [
    "#Number of unique users"
   ]
  },
  {
   "cell_type": "code",
   "execution_count": 24,
   "metadata": {},
   "outputs": [
    {
     "data": {
      "text/plain": [
       "943"
      ]
     },
     "execution_count": 24,
     "metadata": {},
     "output_type": "execute_result"
    }
   ],
   "source": [
    "len( rating_df.userid.unique() )"
   ]
  },
  {
   "cell_type": "code",
   "execution_count": 25,
   "metadata": {
    "collapsed": true
   },
   "outputs": [],
   "source": [
    "#Number of unique movies"
   ]
  },
  {
   "cell_type": "code",
   "execution_count": 26,
   "metadata": {},
   "outputs": [
    {
     "data": {
      "text/plain": [
       "1682"
      ]
     },
     "execution_count": 26,
     "metadata": {},
     "output_type": "execute_result"
    }
   ],
   "source": [
    "len( rating_df.movieid.unique() )"
   ]
  },
  {
   "cell_type": "code",
   "execution_count": 27,
   "metadata": {
    "collapsed": true
   },
   "outputs": [],
   "source": [
    "rating_df.drop( \"timestamp\", inplace = True, axis = 1 )"
   ]
  },
  {
   "cell_type": "code",
   "execution_count": 28,
   "metadata": {},
   "outputs": [
    {
     "data": {
      "text/html": [
       "<div>\n",
       "<style>\n",
       "    .dataframe thead tr:only-child th {\n",
       "        text-align: right;\n",
       "    }\n",
       "\n",
       "    .dataframe thead th {\n",
       "        text-align: left;\n",
       "    }\n",
       "\n",
       "    .dataframe tbody tr th {\n",
       "        vertical-align: top;\n",
       "    }\n",
       "</style>\n",
       "<table border=\"1\" class=\"dataframe\">\n",
       "  <thead>\n",
       "    <tr style=\"text-align: right;\">\n",
       "      <th></th>\n",
       "      <th>userid</th>\n",
       "      <th>movieid</th>\n",
       "      <th>rating</th>\n",
       "    </tr>\n",
       "  </thead>\n",
       "  <tbody>\n",
       "    <tr>\n",
       "      <th>0</th>\n",
       "      <td>196</td>\n",
       "      <td>242</td>\n",
       "      <td>3</td>\n",
       "    </tr>\n",
       "    <tr>\n",
       "      <th>1</th>\n",
       "      <td>186</td>\n",
       "      <td>302</td>\n",
       "      <td>3</td>\n",
       "    </tr>\n",
       "    <tr>\n",
       "      <th>2</th>\n",
       "      <td>22</td>\n",
       "      <td>377</td>\n",
       "      <td>1</td>\n",
       "    </tr>\n",
       "    <tr>\n",
       "      <th>3</th>\n",
       "      <td>244</td>\n",
       "      <td>51</td>\n",
       "      <td>2</td>\n",
       "    </tr>\n",
       "    <tr>\n",
       "      <th>4</th>\n",
       "      <td>166</td>\n",
       "      <td>346</td>\n",
       "      <td>1</td>\n",
       "    </tr>\n",
       "    <tr>\n",
       "      <th>5</th>\n",
       "      <td>298</td>\n",
       "      <td>474</td>\n",
       "      <td>4</td>\n",
       "    </tr>\n",
       "    <tr>\n",
       "      <th>6</th>\n",
       "      <td>115</td>\n",
       "      <td>265</td>\n",
       "      <td>2</td>\n",
       "    </tr>\n",
       "    <tr>\n",
       "      <th>7</th>\n",
       "      <td>253</td>\n",
       "      <td>465</td>\n",
       "      <td>5</td>\n",
       "    </tr>\n",
       "    <tr>\n",
       "      <th>8</th>\n",
       "      <td>305</td>\n",
       "      <td>451</td>\n",
       "      <td>3</td>\n",
       "    </tr>\n",
       "    <tr>\n",
       "      <th>9</th>\n",
       "      <td>6</td>\n",
       "      <td>86</td>\n",
       "      <td>3</td>\n",
       "    </tr>\n",
       "  </tbody>\n",
       "</table>\n",
       "</div>"
      ],
      "text/plain": [
       "   userid  movieid  rating\n",
       "0     196      242       3\n",
       "1     186      302       3\n",
       "2      22      377       1\n",
       "3     244       51       2\n",
       "4     166      346       1\n",
       "5     298      474       4\n",
       "6     115      265       2\n",
       "7     253      465       5\n",
       "8     305      451       3\n",
       "9       6       86       3"
      ]
     },
     "execution_count": 28,
     "metadata": {},
     "output_type": "execute_result"
    }
   ],
   "source": [
    "\n",
    "rating_df.head( 10 )"
   ]
  },
  {
   "cell_type": "code",
   "execution_count": 29,
   "metadata": {
    "collapsed": true
   },
   "outputs": [],
   "source": [
    "# Load Movie Data"
   ]
  },
  {
   "cell_type": "code",
   "execution_count": 30,
   "metadata": {
    "scrolled": true
   },
   "outputs": [
    {
     "name": "stderr",
     "output_type": "stream",
     "text": [
      "/Users/rishisinha/anaconda/lib/python3.6/site-packages/ipykernel_launcher.py:1: ParserWarning: Falling back to the 'python' engine because the 'c' engine does not support regex separators (separators > 1 char and different from '\\s+' are interpreted as regex); you can avoid this warning by specifying engine='python'.\n",
      "  \"\"\"Entry point for launching an IPython kernel.\n"
     ]
    }
   ],
   "source": [
    "movies_df = pd.read_csv( \"u.item\", delimiter = '\\|', header = None )"
   ]
  },
  {
   "cell_type": "code",
   "execution_count": 31,
   "metadata": {
    "collapsed": true
   },
   "outputs": [],
   "source": [
    "movies_df = movies_df.iloc[:,:2]\n",
    "movies_df.columns = ['movieid', 'title']"
   ]
  },
  {
   "cell_type": "code",
   "execution_count": 32,
   "metadata": {},
   "outputs": [
    {
     "data": {
      "text/html": [
       "<div>\n",
       "<style>\n",
       "    .dataframe thead tr:only-child th {\n",
       "        text-align: right;\n",
       "    }\n",
       "\n",
       "    .dataframe thead th {\n",
       "        text-align: left;\n",
       "    }\n",
       "\n",
       "    .dataframe tbody tr th {\n",
       "        vertical-align: top;\n",
       "    }\n",
       "</style>\n",
       "<table border=\"1\" class=\"dataframe\">\n",
       "  <thead>\n",
       "    <tr style=\"text-align: right;\">\n",
       "      <th></th>\n",
       "      <th>movieid</th>\n",
       "      <th>title</th>\n",
       "    </tr>\n",
       "  </thead>\n",
       "  <tbody>\n",
       "    <tr>\n",
       "      <th>0</th>\n",
       "      <td>1</td>\n",
       "      <td>Toy Story (1995)</td>\n",
       "    </tr>\n",
       "    <tr>\n",
       "      <th>1</th>\n",
       "      <td>2</td>\n",
       "      <td>GoldenEye (1995)</td>\n",
       "    </tr>\n",
       "    <tr>\n",
       "      <th>2</th>\n",
       "      <td>3</td>\n",
       "      <td>Four Rooms (1995)</td>\n",
       "    </tr>\n",
       "    <tr>\n",
       "      <th>3</th>\n",
       "      <td>4</td>\n",
       "      <td>Get Shorty (1995)</td>\n",
       "    </tr>\n",
       "    <tr>\n",
       "      <th>4</th>\n",
       "      <td>5</td>\n",
       "      <td>Copycat (1995)</td>\n",
       "    </tr>\n",
       "    <tr>\n",
       "      <th>5</th>\n",
       "      <td>6</td>\n",
       "      <td>Shanghai Triad (Yao a yao yao dao waipo qiao) ...</td>\n",
       "    </tr>\n",
       "    <tr>\n",
       "      <th>6</th>\n",
       "      <td>7</td>\n",
       "      <td>Twelve Monkeys (1995)</td>\n",
       "    </tr>\n",
       "    <tr>\n",
       "      <th>7</th>\n",
       "      <td>8</td>\n",
       "      <td>Babe (1995)</td>\n",
       "    </tr>\n",
       "    <tr>\n",
       "      <th>8</th>\n",
       "      <td>9</td>\n",
       "      <td>Dead Man Walking (1995)</td>\n",
       "    </tr>\n",
       "    <tr>\n",
       "      <th>9</th>\n",
       "      <td>10</td>\n",
       "      <td>Richard III (1995)</td>\n",
       "    </tr>\n",
       "  </tbody>\n",
       "</table>\n",
       "</div>"
      ],
      "text/plain": [
       "   movieid                                              title\n",
       "0        1                                   Toy Story (1995)\n",
       "1        2                                   GoldenEye (1995)\n",
       "2        3                                  Four Rooms (1995)\n",
       "3        4                                  Get Shorty (1995)\n",
       "4        5                                     Copycat (1995)\n",
       "5        6  Shanghai Triad (Yao a yao yao dao waipo qiao) ...\n",
       "6        7                              Twelve Monkeys (1995)\n",
       "7        8                                        Babe (1995)\n",
       "8        9                            Dead Man Walking (1995)\n",
       "9       10                                 Richard III (1995)"
      ]
     },
     "execution_count": 32,
     "metadata": {},
     "output_type": "execute_result"
    }
   ],
   "source": [
    "movies_df.head( 10 )"
   ]
  },
  {
   "cell_type": "code",
   "execution_count": 33,
   "metadata": {
    "collapsed": true
   },
   "outputs": [],
   "source": [
    "# Finding User Similarities"
   ]
  },
  {
   "cell_type": "code",
   "execution_count": 34,
   "metadata": {
    "collapsed": true
   },
   "outputs": [],
   "source": [
    "from sklearn.metrics import pairwise_distances\n",
    "from scipy.spatial.distance import cosine, correlation"
   ]
  },
  {
   "cell_type": "code",
   "execution_count": 35,
   "metadata": {
    "collapsed": true
   },
   "outputs": [],
   "source": [
    "# Create Pivot"
   ]
  },
  {
   "cell_type": "code",
   "execution_count": 36,
   "metadata": {
    "collapsed": true
   },
   "outputs": [],
   "source": [
    "user_movies_df = rating_df.pivot( index='userid', columns='movieid', values = \"rating\" ).reset_index(drop=True)"
   ]
  },
  {
   "cell_type": "code",
   "execution_count": 37,
   "metadata": {
    "collapsed": true
   },
   "outputs": [],
   "source": [
    "#Fill '0' for ratings not given by users"
   ]
  },
  {
   "cell_type": "code",
   "execution_count": 38,
   "metadata": {
    "collapsed": true
   },
   "outputs": [],
   "source": [
    "user_movies_df.fillna( 0, inplace = True )"
   ]
  },
  {
   "cell_type": "code",
   "execution_count": 39,
   "metadata": {},
   "outputs": [
    {
     "data": {
      "text/plain": [
       "(943, 1682)"
      ]
     },
     "execution_count": 39,
     "metadata": {},
     "output_type": "execute_result"
    }
   ],
   "source": [
    "user_movies_df.shape"
   ]
  },
  {
   "cell_type": "code",
   "execution_count": 40,
   "metadata": {},
   "outputs": [
    {
     "data": {
      "text/html": [
       "<div>\n",
       "<style>\n",
       "    .dataframe thead tr:only-child th {\n",
       "        text-align: right;\n",
       "    }\n",
       "\n",
       "    .dataframe thead th {\n",
       "        text-align: left;\n",
       "    }\n",
       "\n",
       "    .dataframe tbody tr th {\n",
       "        vertical-align: top;\n",
       "    }\n",
       "</style>\n",
       "<table border=\"1\" class=\"dataframe\">\n",
       "  <thead>\n",
       "    <tr style=\"text-align: right;\">\n",
       "      <th>movieid</th>\n",
       "      <th>21</th>\n",
       "      <th>22</th>\n",
       "      <th>23</th>\n",
       "      <th>24</th>\n",
       "      <th>25</th>\n",
       "      <th>26</th>\n",
       "      <th>27</th>\n",
       "      <th>28</th>\n",
       "      <th>29</th>\n",
       "      <th>30</th>\n",
       "    </tr>\n",
       "  </thead>\n",
       "  <tbody>\n",
       "    <tr>\n",
       "      <th>10</th>\n",
       "      <td>0.0</td>\n",
       "      <td>4.0</td>\n",
       "      <td>0.0</td>\n",
       "      <td>3.0</td>\n",
       "      <td>3.0</td>\n",
       "      <td>0.0</td>\n",
       "      <td>0.0</td>\n",
       "      <td>5.0</td>\n",
       "      <td>3.0</td>\n",
       "      <td>0.0</td>\n",
       "    </tr>\n",
       "    <tr>\n",
       "      <th>11</th>\n",
       "      <td>0.0</td>\n",
       "      <td>0.0</td>\n",
       "      <td>0.0</td>\n",
       "      <td>0.0</td>\n",
       "      <td>0.0</td>\n",
       "      <td>0.0</td>\n",
       "      <td>0.0</td>\n",
       "      <td>5.0</td>\n",
       "      <td>0.0</td>\n",
       "      <td>0.0</td>\n",
       "    </tr>\n",
       "    <tr>\n",
       "      <th>12</th>\n",
       "      <td>3.0</td>\n",
       "      <td>4.0</td>\n",
       "      <td>5.0</td>\n",
       "      <td>1.0</td>\n",
       "      <td>1.0</td>\n",
       "      <td>0.0</td>\n",
       "      <td>3.0</td>\n",
       "      <td>5.0</td>\n",
       "      <td>2.0</td>\n",
       "      <td>0.0</td>\n",
       "    </tr>\n",
       "    <tr>\n",
       "      <th>13</th>\n",
       "      <td>0.0</td>\n",
       "      <td>3.0</td>\n",
       "      <td>5.0</td>\n",
       "      <td>0.0</td>\n",
       "      <td>2.0</td>\n",
       "      <td>0.0</td>\n",
       "      <td>0.0</td>\n",
       "      <td>0.0</td>\n",
       "      <td>0.0</td>\n",
       "      <td>0.0</td>\n",
       "    </tr>\n",
       "    <tr>\n",
       "      <th>14</th>\n",
       "      <td>0.0</td>\n",
       "      <td>0.0</td>\n",
       "      <td>0.0</td>\n",
       "      <td>0.0</td>\n",
       "      <td>3.0</td>\n",
       "      <td>0.0</td>\n",
       "      <td>0.0</td>\n",
       "      <td>0.0</td>\n",
       "      <td>0.0</td>\n",
       "      <td>0.0</td>\n",
       "    </tr>\n",
       "    <tr>\n",
       "      <th>15</th>\n",
       "      <td>0.0</td>\n",
       "      <td>5.0</td>\n",
       "      <td>0.0</td>\n",
       "      <td>0.0</td>\n",
       "      <td>0.0</td>\n",
       "      <td>0.0</td>\n",
       "      <td>2.0</td>\n",
       "      <td>5.0</td>\n",
       "      <td>0.0</td>\n",
       "      <td>0.0</td>\n",
       "    </tr>\n",
       "    <tr>\n",
       "      <th>16</th>\n",
       "      <td>0.0</td>\n",
       "      <td>0.0</td>\n",
       "      <td>0.0</td>\n",
       "      <td>0.0</td>\n",
       "      <td>0.0</td>\n",
       "      <td>0.0</td>\n",
       "      <td>0.0</td>\n",
       "      <td>0.0</td>\n",
       "      <td>0.0</td>\n",
       "      <td>0.0</td>\n",
       "    </tr>\n",
       "    <tr>\n",
       "      <th>17</th>\n",
       "      <td>0.0</td>\n",
       "      <td>5.0</td>\n",
       "      <td>4.0</td>\n",
       "      <td>0.0</td>\n",
       "      <td>3.0</td>\n",
       "      <td>4.0</td>\n",
       "      <td>0.0</td>\n",
       "      <td>3.0</td>\n",
       "      <td>0.0</td>\n",
       "      <td>0.0</td>\n",
       "    </tr>\n",
       "    <tr>\n",
       "      <th>18</th>\n",
       "      <td>0.0</td>\n",
       "      <td>0.0</td>\n",
       "      <td>0.0</td>\n",
       "      <td>0.0</td>\n",
       "      <td>0.0</td>\n",
       "      <td>0.0</td>\n",
       "      <td>0.0</td>\n",
       "      <td>0.0</td>\n",
       "      <td>0.0</td>\n",
       "      <td>0.0</td>\n",
       "    </tr>\n",
       "    <tr>\n",
       "      <th>19</th>\n",
       "      <td>0.0</td>\n",
       "      <td>5.0</td>\n",
       "      <td>0.0</td>\n",
       "      <td>0.0</td>\n",
       "      <td>0.0</td>\n",
       "      <td>0.0</td>\n",
       "      <td>0.0</td>\n",
       "      <td>0.0</td>\n",
       "      <td>0.0</td>\n",
       "      <td>0.0</td>\n",
       "    </tr>\n",
       "  </tbody>\n",
       "</table>\n",
       "</div>"
      ],
      "text/plain": [
       "movieid   21   22   23   24   25   26   27   28   29   30\n",
       "10       0.0  4.0  0.0  3.0  3.0  0.0  0.0  5.0  3.0  0.0\n",
       "11       0.0  0.0  0.0  0.0  0.0  0.0  0.0  5.0  0.0  0.0\n",
       "12       3.0  4.0  5.0  1.0  1.0  0.0  3.0  5.0  2.0  0.0\n",
       "13       0.0  3.0  5.0  0.0  2.0  0.0  0.0  0.0  0.0  0.0\n",
       "14       0.0  0.0  0.0  0.0  3.0  0.0  0.0  0.0  0.0  0.0\n",
       "15       0.0  5.0  0.0  0.0  0.0  0.0  2.0  5.0  0.0  0.0\n",
       "16       0.0  0.0  0.0  0.0  0.0  0.0  0.0  0.0  0.0  0.0\n",
       "17       0.0  5.0  4.0  0.0  3.0  4.0  0.0  3.0  0.0  0.0\n",
       "18       0.0  0.0  0.0  0.0  0.0  0.0  0.0  0.0  0.0  0.0\n",
       "19       0.0  5.0  0.0  0.0  0.0  0.0  0.0  0.0  0.0  0.0"
      ]
     },
     "execution_count": 40,
     "metadata": {},
     "output_type": "execute_result"
    }
   ],
   "source": [
    "user_movies_df.iloc[10:20, 20:30]"
   ]
  },
  {
   "cell_type": "markdown",
   "metadata": {},
   "source": [
    "Calculate the distances\n",
    "Based on what users have given ratings to different items, we can calculate the distances between them. Less the distance more similar they are.\n",
    "\n",
    "For example, following users have given different ratings to differnt books.\n",
    "\n",
    "\n",
    "\n",
    "Now, we can find similar users based the distance between user depending on how they have rated the movies. The dimensions are the books and scale is the ratings users have provided.\n",
    "\n",
    "\n",
    "\n",
    "For calculating distances, many similarity coefficients can be calculated. Most widely used similarity coefficients are Euclidean, Cosine, Pearson Correlation etc.\n",
    "\n",
    "We will use cosine distance here. Here we are insterested in similarity. That means higher the value more similar they are. But as the function gives us the distance, we will deduct it from 1."
   ]
  },
  {
   "cell_type": "code",
   "execution_count": 41,
   "metadata": {
    "collapsed": true
   },
   "outputs": [],
   "source": [
    "user_sim = 1 - pairwise_distances( user_movies_df.as_matrix(), metric=\"cosine\" )"
   ]
  },
  {
   "cell_type": "code",
   "execution_count": 42,
   "metadata": {
    "collapsed": true
   },
   "outputs": [],
   "source": [
    "user_sim_df = pd.DataFrame( user_sim )"
   ]
  },
  {
   "cell_type": "code",
   "execution_count": 43,
   "metadata": {},
   "outputs": [
    {
     "data": {
      "text/html": [
       "<div>\n",
       "<style>\n",
       "    .dataframe thead tr:only-child th {\n",
       "        text-align: right;\n",
       "    }\n",
       "\n",
       "    .dataframe thead th {\n",
       "        text-align: left;\n",
       "    }\n",
       "\n",
       "    .dataframe tbody tr th {\n",
       "        vertical-align: top;\n",
       "    }\n",
       "</style>\n",
       "<table border=\"1\" class=\"dataframe\">\n",
       "  <thead>\n",
       "    <tr style=\"text-align: right;\">\n",
       "      <th></th>\n",
       "      <th>0</th>\n",
       "      <th>1</th>\n",
       "      <th>2</th>\n",
       "      <th>3</th>\n",
       "      <th>4</th>\n",
       "      <th>5</th>\n",
       "      <th>6</th>\n",
       "      <th>7</th>\n",
       "      <th>8</th>\n",
       "      <th>9</th>\n",
       "      <th>...</th>\n",
       "      <th>933</th>\n",
       "      <th>934</th>\n",
       "      <th>935</th>\n",
       "      <th>936</th>\n",
       "      <th>937</th>\n",
       "      <th>938</th>\n",
       "      <th>939</th>\n",
       "      <th>940</th>\n",
       "      <th>941</th>\n",
       "      <th>942</th>\n",
       "    </tr>\n",
       "  </thead>\n",
       "  <tbody>\n",
       "    <tr>\n",
       "      <th>0</th>\n",
       "      <td>1.000000</td>\n",
       "      <td>0.166931</td>\n",
       "      <td>0.047460</td>\n",
       "      <td>0.064358</td>\n",
       "      <td>0.378475</td>\n",
       "      <td>0.430239</td>\n",
       "      <td>0.440367</td>\n",
       "      <td>0.319072</td>\n",
       "      <td>0.078138</td>\n",
       "      <td>0.376544</td>\n",
       "      <td>...</td>\n",
       "      <td>0.369527</td>\n",
       "      <td>0.119482</td>\n",
       "      <td>0.274876</td>\n",
       "      <td>0.189705</td>\n",
       "      <td>0.197326</td>\n",
       "      <td>0.118095</td>\n",
       "      <td>0.314072</td>\n",
       "      <td>0.148617</td>\n",
       "      <td>0.179508</td>\n",
       "      <td>0.398175</td>\n",
       "    </tr>\n",
       "    <tr>\n",
       "      <th>1</th>\n",
       "      <td>0.166931</td>\n",
       "      <td>1.000000</td>\n",
       "      <td>0.110591</td>\n",
       "      <td>0.178121</td>\n",
       "      <td>0.072979</td>\n",
       "      <td>0.245843</td>\n",
       "      <td>0.107328</td>\n",
       "      <td>0.103344</td>\n",
       "      <td>0.161048</td>\n",
       "      <td>0.159862</td>\n",
       "      <td>...</td>\n",
       "      <td>0.156986</td>\n",
       "      <td>0.307942</td>\n",
       "      <td>0.358789</td>\n",
       "      <td>0.424046</td>\n",
       "      <td>0.319889</td>\n",
       "      <td>0.228583</td>\n",
       "      <td>0.226790</td>\n",
       "      <td>0.161485</td>\n",
       "      <td>0.172268</td>\n",
       "      <td>0.105798</td>\n",
       "    </tr>\n",
       "    <tr>\n",
       "      <th>2</th>\n",
       "      <td>0.047460</td>\n",
       "      <td>0.110591</td>\n",
       "      <td>1.000000</td>\n",
       "      <td>0.344151</td>\n",
       "      <td>0.021245</td>\n",
       "      <td>0.072415</td>\n",
       "      <td>0.066137</td>\n",
       "      <td>0.083060</td>\n",
       "      <td>0.061040</td>\n",
       "      <td>0.065151</td>\n",
       "      <td>...</td>\n",
       "      <td>0.031875</td>\n",
       "      <td>0.042753</td>\n",
       "      <td>0.163829</td>\n",
       "      <td>0.069038</td>\n",
       "      <td>0.124245</td>\n",
       "      <td>0.026271</td>\n",
       "      <td>0.161890</td>\n",
       "      <td>0.101243</td>\n",
       "      <td>0.133416</td>\n",
       "      <td>0.026556</td>\n",
       "    </tr>\n",
       "    <tr>\n",
       "      <th>3</th>\n",
       "      <td>0.064358</td>\n",
       "      <td>0.178121</td>\n",
       "      <td>0.344151</td>\n",
       "      <td>1.000000</td>\n",
       "      <td>0.031804</td>\n",
       "      <td>0.068044</td>\n",
       "      <td>0.091230</td>\n",
       "      <td>0.188060</td>\n",
       "      <td>0.101284</td>\n",
       "      <td>0.060859</td>\n",
       "      <td>...</td>\n",
       "      <td>0.052107</td>\n",
       "      <td>0.036784</td>\n",
       "      <td>0.133115</td>\n",
       "      <td>0.193471</td>\n",
       "      <td>0.146058</td>\n",
       "      <td>0.030138</td>\n",
       "      <td>0.196858</td>\n",
       "      <td>0.152041</td>\n",
       "      <td>0.170086</td>\n",
       "      <td>0.058752</td>\n",
       "    </tr>\n",
       "    <tr>\n",
       "      <th>4</th>\n",
       "      <td>0.378475</td>\n",
       "      <td>0.072979</td>\n",
       "      <td>0.021245</td>\n",
       "      <td>0.031804</td>\n",
       "      <td>1.000000</td>\n",
       "      <td>0.237286</td>\n",
       "      <td>0.373600</td>\n",
       "      <td>0.248930</td>\n",
       "      <td>0.056847</td>\n",
       "      <td>0.201427</td>\n",
       "      <td>...</td>\n",
       "      <td>0.338794</td>\n",
       "      <td>0.080580</td>\n",
       "      <td>0.094924</td>\n",
       "      <td>0.079779</td>\n",
       "      <td>0.148607</td>\n",
       "      <td>0.071459</td>\n",
       "      <td>0.239955</td>\n",
       "      <td>0.139595</td>\n",
       "      <td>0.152497</td>\n",
       "      <td>0.313941</td>\n",
       "    </tr>\n",
       "  </tbody>\n",
       "</table>\n",
       "<p>5 rows × 943 columns</p>\n",
       "</div>"
      ],
      "text/plain": [
       "        0         1         2         3         4         5         6    \\\n",
       "0  1.000000  0.166931  0.047460  0.064358  0.378475  0.430239  0.440367   \n",
       "1  0.166931  1.000000  0.110591  0.178121  0.072979  0.245843  0.107328   \n",
       "2  0.047460  0.110591  1.000000  0.344151  0.021245  0.072415  0.066137   \n",
       "3  0.064358  0.178121  0.344151  1.000000  0.031804  0.068044  0.091230   \n",
       "4  0.378475  0.072979  0.021245  0.031804  1.000000  0.237286  0.373600   \n",
       "\n",
       "        7         8         9      ...          933       934       935  \\\n",
       "0  0.319072  0.078138  0.376544    ...     0.369527  0.119482  0.274876   \n",
       "1  0.103344  0.161048  0.159862    ...     0.156986  0.307942  0.358789   \n",
       "2  0.083060  0.061040  0.065151    ...     0.031875  0.042753  0.163829   \n",
       "3  0.188060  0.101284  0.060859    ...     0.052107  0.036784  0.133115   \n",
       "4  0.248930  0.056847  0.201427    ...     0.338794  0.080580  0.094924   \n",
       "\n",
       "        936       937       938       939       940       941       942  \n",
       "0  0.189705  0.197326  0.118095  0.314072  0.148617  0.179508  0.398175  \n",
       "1  0.424046  0.319889  0.228583  0.226790  0.161485  0.172268  0.105798  \n",
       "2  0.069038  0.124245  0.026271  0.161890  0.101243  0.133416  0.026556  \n",
       "3  0.193471  0.146058  0.030138  0.196858  0.152041  0.170086  0.058752  \n",
       "4  0.079779  0.148607  0.071459  0.239955  0.139595  0.152497  0.313941  \n",
       "\n",
       "[5 rows x 943 columns]"
      ]
     },
     "execution_count": 43,
     "metadata": {},
     "output_type": "execute_result"
    }
   ],
   "source": [
    "user_sim_df[0:5]"
   ]
  },
  {
   "cell_type": "markdown",
   "metadata": {},
   "source": [
    "Who is similar to who?\n",
    "Users with highest similarity values can be treated as similar users."
   ]
  },
  {
   "cell_type": "code",
   "execution_count": 46,
   "metadata": {},
   "outputs": [
    {
     "data": {
      "text/plain": [
       "0    0\n",
       "1    1\n",
       "2    2\n",
       "3    3\n",
       "4    4\n",
       "dtype: int64"
      ]
     },
     "execution_count": 46,
     "metadata": {},
     "output_type": "execute_result"
    }
   ],
   "source": [
    "user_sim_df.idxmax(axis=1)[0:5]"
   ]
  },
  {
   "cell_type": "markdown",
   "metadata": {},
   "source": [
    "The above results show that user are most similar to themselves. But this is not what we want. So, we will fill the diagonal of the matrix (which represent the relationship with self) with 0."
   ]
  },
  {
   "cell_type": "markdown",
   "metadata": {},
   "source": [
    "<h3>Setting correlation with self to 0 </h3>"
   ]
  },
  {
   "cell_type": "code",
   "execution_count": 47,
   "metadata": {
    "collapsed": true
   },
   "outputs": [],
   "source": [
    "np.fill_diagonal( user_sim, 0 )"
   ]
  },
  {
   "cell_type": "code",
   "execution_count": 48,
   "metadata": {
    "collapsed": true
   },
   "outputs": [],
   "source": [
    "user_sim_df = pd.DataFrame( user_sim )"
   ]
  },
  {
   "cell_type": "code",
   "execution_count": 49,
   "metadata": {},
   "outputs": [
    {
     "data": {
      "text/html": [
       "<div>\n",
       "<style>\n",
       "    .dataframe thead tr:only-child th {\n",
       "        text-align: right;\n",
       "    }\n",
       "\n",
       "    .dataframe thead th {\n",
       "        text-align: left;\n",
       "    }\n",
       "\n",
       "    .dataframe tbody tr th {\n",
       "        vertical-align: top;\n",
       "    }\n",
       "</style>\n",
       "<table border=\"1\" class=\"dataframe\">\n",
       "  <thead>\n",
       "    <tr style=\"text-align: right;\">\n",
       "      <th></th>\n",
       "      <th>0</th>\n",
       "      <th>1</th>\n",
       "      <th>2</th>\n",
       "      <th>3</th>\n",
       "      <th>4</th>\n",
       "      <th>5</th>\n",
       "      <th>6</th>\n",
       "      <th>7</th>\n",
       "      <th>8</th>\n",
       "      <th>9</th>\n",
       "      <th>...</th>\n",
       "      <th>933</th>\n",
       "      <th>934</th>\n",
       "      <th>935</th>\n",
       "      <th>936</th>\n",
       "      <th>937</th>\n",
       "      <th>938</th>\n",
       "      <th>939</th>\n",
       "      <th>940</th>\n",
       "      <th>941</th>\n",
       "      <th>942</th>\n",
       "    </tr>\n",
       "  </thead>\n",
       "  <tbody>\n",
       "    <tr>\n",
       "      <th>0</th>\n",
       "      <td>0.000000</td>\n",
       "      <td>0.166931</td>\n",
       "      <td>0.047460</td>\n",
       "      <td>0.064358</td>\n",
       "      <td>0.378475</td>\n",
       "      <td>0.430239</td>\n",
       "      <td>0.440367</td>\n",
       "      <td>0.319072</td>\n",
       "      <td>0.078138</td>\n",
       "      <td>0.376544</td>\n",
       "      <td>...</td>\n",
       "      <td>0.369527</td>\n",
       "      <td>0.119482</td>\n",
       "      <td>0.274876</td>\n",
       "      <td>0.189705</td>\n",
       "      <td>0.197326</td>\n",
       "      <td>0.118095</td>\n",
       "      <td>0.314072</td>\n",
       "      <td>0.148617</td>\n",
       "      <td>0.179508</td>\n",
       "      <td>0.398175</td>\n",
       "    </tr>\n",
       "    <tr>\n",
       "      <th>1</th>\n",
       "      <td>0.166931</td>\n",
       "      <td>0.000000</td>\n",
       "      <td>0.110591</td>\n",
       "      <td>0.178121</td>\n",
       "      <td>0.072979</td>\n",
       "      <td>0.245843</td>\n",
       "      <td>0.107328</td>\n",
       "      <td>0.103344</td>\n",
       "      <td>0.161048</td>\n",
       "      <td>0.159862</td>\n",
       "      <td>...</td>\n",
       "      <td>0.156986</td>\n",
       "      <td>0.307942</td>\n",
       "      <td>0.358789</td>\n",
       "      <td>0.424046</td>\n",
       "      <td>0.319889</td>\n",
       "      <td>0.228583</td>\n",
       "      <td>0.226790</td>\n",
       "      <td>0.161485</td>\n",
       "      <td>0.172268</td>\n",
       "      <td>0.105798</td>\n",
       "    </tr>\n",
       "    <tr>\n",
       "      <th>2</th>\n",
       "      <td>0.047460</td>\n",
       "      <td>0.110591</td>\n",
       "      <td>0.000000</td>\n",
       "      <td>0.344151</td>\n",
       "      <td>0.021245</td>\n",
       "      <td>0.072415</td>\n",
       "      <td>0.066137</td>\n",
       "      <td>0.083060</td>\n",
       "      <td>0.061040</td>\n",
       "      <td>0.065151</td>\n",
       "      <td>...</td>\n",
       "      <td>0.031875</td>\n",
       "      <td>0.042753</td>\n",
       "      <td>0.163829</td>\n",
       "      <td>0.069038</td>\n",
       "      <td>0.124245</td>\n",
       "      <td>0.026271</td>\n",
       "      <td>0.161890</td>\n",
       "      <td>0.101243</td>\n",
       "      <td>0.133416</td>\n",
       "      <td>0.026556</td>\n",
       "    </tr>\n",
       "    <tr>\n",
       "      <th>3</th>\n",
       "      <td>0.064358</td>\n",
       "      <td>0.178121</td>\n",
       "      <td>0.344151</td>\n",
       "      <td>0.000000</td>\n",
       "      <td>0.031804</td>\n",
       "      <td>0.068044</td>\n",
       "      <td>0.091230</td>\n",
       "      <td>0.188060</td>\n",
       "      <td>0.101284</td>\n",
       "      <td>0.060859</td>\n",
       "      <td>...</td>\n",
       "      <td>0.052107</td>\n",
       "      <td>0.036784</td>\n",
       "      <td>0.133115</td>\n",
       "      <td>0.193471</td>\n",
       "      <td>0.146058</td>\n",
       "      <td>0.030138</td>\n",
       "      <td>0.196858</td>\n",
       "      <td>0.152041</td>\n",
       "      <td>0.170086</td>\n",
       "      <td>0.058752</td>\n",
       "    </tr>\n",
       "    <tr>\n",
       "      <th>4</th>\n",
       "      <td>0.378475</td>\n",
       "      <td>0.072979</td>\n",
       "      <td>0.021245</td>\n",
       "      <td>0.031804</td>\n",
       "      <td>0.000000</td>\n",
       "      <td>0.237286</td>\n",
       "      <td>0.373600</td>\n",
       "      <td>0.248930</td>\n",
       "      <td>0.056847</td>\n",
       "      <td>0.201427</td>\n",
       "      <td>...</td>\n",
       "      <td>0.338794</td>\n",
       "      <td>0.080580</td>\n",
       "      <td>0.094924</td>\n",
       "      <td>0.079779</td>\n",
       "      <td>0.148607</td>\n",
       "      <td>0.071459</td>\n",
       "      <td>0.239955</td>\n",
       "      <td>0.139595</td>\n",
       "      <td>0.152497</td>\n",
       "      <td>0.313941</td>\n",
       "    </tr>\n",
       "  </tbody>\n",
       "</table>\n",
       "<p>5 rows × 943 columns</p>\n",
       "</div>"
      ],
      "text/plain": [
       "        0         1         2         3         4         5         6    \\\n",
       "0  0.000000  0.166931  0.047460  0.064358  0.378475  0.430239  0.440367   \n",
       "1  0.166931  0.000000  0.110591  0.178121  0.072979  0.245843  0.107328   \n",
       "2  0.047460  0.110591  0.000000  0.344151  0.021245  0.072415  0.066137   \n",
       "3  0.064358  0.178121  0.344151  0.000000  0.031804  0.068044  0.091230   \n",
       "4  0.378475  0.072979  0.021245  0.031804  0.000000  0.237286  0.373600   \n",
       "\n",
       "        7         8         9      ...          933       934       935  \\\n",
       "0  0.319072  0.078138  0.376544    ...     0.369527  0.119482  0.274876   \n",
       "1  0.103344  0.161048  0.159862    ...     0.156986  0.307942  0.358789   \n",
       "2  0.083060  0.061040  0.065151    ...     0.031875  0.042753  0.163829   \n",
       "3  0.188060  0.101284  0.060859    ...     0.052107  0.036784  0.133115   \n",
       "4  0.248930  0.056847  0.201427    ...     0.338794  0.080580  0.094924   \n",
       "\n",
       "        936       937       938       939       940       941       942  \n",
       "0  0.189705  0.197326  0.118095  0.314072  0.148617  0.179508  0.398175  \n",
       "1  0.424046  0.319889  0.228583  0.226790  0.161485  0.172268  0.105798  \n",
       "2  0.069038  0.124245  0.026271  0.161890  0.101243  0.133416  0.026556  \n",
       "3  0.193471  0.146058  0.030138  0.196858  0.152041  0.170086  0.058752  \n",
       "4  0.079779  0.148607  0.071459  0.239955  0.139595  0.152497  0.313941  \n",
       "\n",
       "[5 rows x 943 columns]"
      ]
     },
     "execution_count": 49,
     "metadata": {},
     "output_type": "execute_result"
    }
   ],
   "source": [
    "user_sim_df[0:5]"
   ]
  },
  {
   "cell_type": "code",
   "execution_count": 50,
   "metadata": {
    "collapsed": true
   },
   "outputs": [],
   "source": [
    "# Finding user similarities"
   ]
  },
  {
   "cell_type": "code",
   "execution_count": 51,
   "metadata": {},
   "outputs": [
    {
     "data": {
      "text/plain": [
       "544    756\n",
       "309    246\n",
       "448    893\n",
       "628    537\n",
       "284    413\n",
       "572    693\n",
       "225    866\n",
       "567    311\n",
       "75     176\n",
       "726    496\n",
       "dtype: int64"
      ]
     },
     "execution_count": 51,
     "metadata": {},
     "output_type": "execute_result"
    }
   ],
   "source": [
    "\n",
    "user_sim_df.idxmax(axis=1).sample( 10, random_state = 10 )"
   ]
  },
  {
   "cell_type": "markdown",
   "metadata": {},
   "source": [
    "<pre><h4>This shows which results are similar to each other. The actual user id will be the index number + 1. That means user 545 is similar to user 757 and so on and so forth.\n",
    "Movies similar users like or dislike\n",
    "We can find the actual movie names and check if the similar users have rated them similarity or differently.</h4>"
   ]
  },
  {
   "cell_type": "code",
   "execution_count": 52,
   "metadata": {
    "collapsed": true
   },
   "outputs": [],
   "source": [
    "def get_user_similar_movies( user1, user2 ):\n",
    "  common_movies = rating_df[rating_df.userid == user1].merge(\n",
    "      rating_df[rating_df.userid == user2],\n",
    "      on = \"movieid\",\n",
    "      how = \"inner\" )\n",
    "\n",
    "  return common_movies.merge( movies_df, on = 'movieid' )"
   ]
  },
  {
   "cell_type": "markdown",
   "metadata": {},
   "source": [
    "<h3>User 310 Vs. User 247</h3>"
   ]
  },
  {
   "cell_type": "code",
   "execution_count": 53,
   "metadata": {},
   "outputs": [
    {
     "data": {
      "text/html": [
       "<div>\n",
       "<style>\n",
       "    .dataframe thead tr:only-child th {\n",
       "        text-align: right;\n",
       "    }\n",
       "\n",
       "    .dataframe thead th {\n",
       "        text-align: left;\n",
       "    }\n",
       "\n",
       "    .dataframe tbody tr th {\n",
       "        vertical-align: top;\n",
       "    }\n",
       "</style>\n",
       "<table border=\"1\" class=\"dataframe\">\n",
       "  <thead>\n",
       "    <tr style=\"text-align: right;\">\n",
       "      <th></th>\n",
       "      <th>userid_x</th>\n",
       "      <th>movieid</th>\n",
       "      <th>rating_x</th>\n",
       "      <th>userid_y</th>\n",
       "      <th>rating_y</th>\n",
       "      <th>title</th>\n",
       "    </tr>\n",
       "  </thead>\n",
       "  <tbody>\n",
       "    <tr>\n",
       "      <th>0</th>\n",
       "      <td>310</td>\n",
       "      <td>258</td>\n",
       "      <td>3</td>\n",
       "      <td>247</td>\n",
       "      <td>5</td>\n",
       "      <td>Contact (1997)</td>\n",
       "    </tr>\n",
       "    <tr>\n",
       "      <th>1</th>\n",
       "      <td>310</td>\n",
       "      <td>257</td>\n",
       "      <td>5</td>\n",
       "      <td>247</td>\n",
       "      <td>4</td>\n",
       "      <td>Men in Black (1997)</td>\n",
       "    </tr>\n",
       "    <tr>\n",
       "      <th>2</th>\n",
       "      <td>310</td>\n",
       "      <td>251</td>\n",
       "      <td>5</td>\n",
       "      <td>247</td>\n",
       "      <td>4</td>\n",
       "      <td>Shall We Dance? (1996)</td>\n",
       "    </tr>\n",
       "    <tr>\n",
       "      <th>3</th>\n",
       "      <td>310</td>\n",
       "      <td>1022</td>\n",
       "      <td>5</td>\n",
       "      <td>247</td>\n",
       "      <td>4</td>\n",
       "      <td>Fast, Cheap &amp; Out of Control (1997)</td>\n",
       "    </tr>\n",
       "    <tr>\n",
       "      <th>4</th>\n",
       "      <td>310</td>\n",
       "      <td>222</td>\n",
       "      <td>3</td>\n",
       "      <td>247</td>\n",
       "      <td>3</td>\n",
       "      <td>Star Trek: First Contact (1996)</td>\n",
       "    </tr>\n",
       "    <tr>\n",
       "      <th>5</th>\n",
       "      <td>310</td>\n",
       "      <td>181</td>\n",
       "      <td>4</td>\n",
       "      <td>247</td>\n",
       "      <td>4</td>\n",
       "      <td>Return of the Jedi (1983)</td>\n",
       "    </tr>\n",
       "    <tr>\n",
       "      <th>6</th>\n",
       "      <td>310</td>\n",
       "      <td>50</td>\n",
       "      <td>5</td>\n",
       "      <td>247</td>\n",
       "      <td>5</td>\n",
       "      <td>Star Wars (1977)</td>\n",
       "    </tr>\n",
       "  </tbody>\n",
       "</table>\n",
       "</div>"
      ],
      "text/plain": [
       "   userid_x  movieid  rating_x  userid_y  rating_y  \\\n",
       "0       310      258         3       247         5   \n",
       "1       310      257         5       247         4   \n",
       "2       310      251         5       247         4   \n",
       "3       310     1022         5       247         4   \n",
       "4       310      222         3       247         3   \n",
       "5       310      181         4       247         4   \n",
       "6       310       50         5       247         5   \n",
       "\n",
       "                                 title  \n",
       "0                       Contact (1997)  \n",
       "1                  Men in Black (1997)  \n",
       "2               Shall We Dance? (1996)  \n",
       "3  Fast, Cheap & Out of Control (1997)  \n",
       "4      Star Trek: First Contact (1996)  \n",
       "5            Return of the Jedi (1983)  \n",
       "6                     Star Wars (1977)  "
      ]
     },
     "execution_count": 53,
     "metadata": {},
     "output_type": "execute_result"
    }
   ],
   "source": [
    "\n",
    "get_user_similar_movies( 310, 247 )"
   ]
  },
  {
   "cell_type": "markdown",
   "metadata": {},
   "source": [
    "<pre>\n",
    "Challenges with User similarity\n",
    "The challenge with calculating user similarity is the user need to have some prior purchases and should have rated them. This recommendation technique does not work for new users. The system need to wait until the user make some purchases and rates them. Only then similar users can be found and recommendations can be made. This is called cold start problem.\n",
    "This can be avoided by calculating item similarities based how how users are buying these items and rates them together. Here the items are entities and users are dimensions."
   ]
  },
  {
   "cell_type": "code",
   "execution_count": 54,
   "metadata": {
    "collapsed": true
   },
   "outputs": [],
   "source": []
  }
 ],
 "metadata": {
  "kernelspec": {
   "display_name": "Python 3",
   "language": "python",
   "name": "python3"
  },
  "language_info": {
   "codemirror_mode": {
    "name": "ipython",
    "version": 3
   },
   "file_extension": ".py",
   "mimetype": "text/x-python",
   "name": "python",
   "nbconvert_exporter": "python",
   "pygments_lexer": "ipython3",
   "version": "3.6.9"
  }
 },
 "nbformat": 4,
 "nbformat_minor": 2
}
